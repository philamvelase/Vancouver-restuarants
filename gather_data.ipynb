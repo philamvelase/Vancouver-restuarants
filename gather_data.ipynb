{
 "cells": [
  {
   "cell_type": "markdown",
   "metadata": {},
   "source": [
    "# Yelp API - Gathering Data\n",
    "\n",
    "## In this Notebook:\n",
    " - Using YELP Fusion API, restaurant information from the lower mainland (within 25 miles of Vancouver, BC) was saved\n",
    " - A web scraper was created, but not executed to gather full review information (to adhere to ToS)."
   ]
  },
  {
   "cell_type": "markdown",
   "metadata": {},
   "source": [
    "### Using offset and limit parameters in Yelp API\n",
    "\n",
    "As there is a limit of 50 places per API call, offset and limit parameters allow a total of 1000 places to be called.\n",
    "\n",
    "Offset is the \"distance\" from a known memory address, which in this case, is where the API call \"starts\"\n",
    "\n",
    "eg)\n",
    "with OFFSET = 50, LIMIT = 50,\n",
    "you will receive results 51-100\n",
    "\n",
    "\n",
    "### Steps taken to retrieve data\n",
    "\n",
    "- Get list of categories (for restaurants)\n",
    "- For each category, cycle through to get 1000 restaurants of that type\n",
    "- Do that for all categories to retrieve all restaurant data\n",
    "- For each restaurant in each category, create a scraper to gather review data (for example, for top 500 restaurants)\n",
    "    - Built the scraper but did not execute, as it is against ToS."
   ]
  },
  {
   "cell_type": "markdown",
   "metadata": {},
   "source": [
    "## Testing endpoint "
   ]
  },
  {
   "cell_type": "code",
   "execution_count": 7,
   "metadata": {},
   "outputs": [],
   "source": [
    "import requests\n",
    "\n",
    "#API_KEY = '<--- API KEY HERE --->'\n",
    "#CLIENT_ID = '<--- CLIENT ID HERE --->'\n",
    "\n",
    "ENDPOINT = \"https://api.yelp.com/v3/businesses/search\"\n",
    "\n",
    "HEADERS = {'Authorization': 'bearer %s' % API_KEY}\n",
    "\n",
    "PARAMETERS = {'term': 'restaurants',\n",
    "              'offset': 0,\n",
    "              'limit': 50,\n",
    "              'radius': 40000,\n",
    "              'location': 'Vancouver, BC'}\n",
    "\n",
    "response = requests.get(url=ENDPOINT, params=PARAMETERS, headers=HEADERS)"
   ]
  },
  {
   "cell_type": "markdown",
   "metadata": {},
   "source": [
    "## Next, let's gather the data for all restaurants within a radius of 40,000 m (or 25 miles) from Vancouver, BC"
   ]
  },
  {
   "cell_type": "code",
   "execution_count": 8,
   "metadata": {},
   "outputs": [],
   "source": [
    "# open categories json file\n",
    "import json\n",
    "\n",
    "with open('data/categories.json') as f:\n",
    "    data = json.load(f)\n",
    "\n",
    "restaurants = [place for place in data if 'restaurants' in place['parents']]"
   ]
  },
  {
   "cell_type": "code",
   "execution_count": 9,
   "metadata": {},
   "outputs": [
    {
     "name": "stdout",
     "output_type": "stream",
     "text": [
      "Restaurant aliases: ['afghani', 'african', 'andalusian'] || Num: 192\n",
      "Restaurant titles: ['Afghan', 'African', 'Andalusian'] || Num: 192\n"
     ]
    }
   ],
   "source": [
    "restaurant_aliases = [restaurant['alias'] for restaurant in restaurants]\n",
    "restaurant_titles = [restaurant['title'] for restaurant in restaurants]\n",
    "\n",
    "print(\"Restaurant aliases: {} || Num: {}\".format(restaurant_aliases[:3], len(restaurant_aliases)))\n",
    "print(\"Restaurant titles: {} || Num: {}\".format(restaurant_titles[:3], len(restaurant_titles)))"
   ]
  },
  {
   "cell_type": "code",
   "execution_count": 10,
   "metadata": {},
   "outputs": [
    {
     "name": "stdout",
     "output_type": "stream",
     "text": [
      "afghani: 0-50\n",
      "african: 0-50\n",
      "arabian: 0-50\n",
      "asianfusion: 0-50\n",
      "asianfusion: 50-100\n",
      "australian: 0-50\n",
      "austrian: 0-50\n",
      "bangladeshi: 0-50\n",
      "bbq: 0-50\n",
      "bbq: 50-100\n",
      "belgian: 0-50\n",
      "bistros: 0-50\n",
      "brasseries: 0-50\n",
      "brazilian: 0-50\n",
      "breakfast_brunch: 0-50\n",
      "breakfast_brunch: 50-100\n",
      "breakfast_brunch: 100-150\n",
      "breakfast_brunch: 150-200\n",
      "breakfast_brunch: 200-250\n",
      "british: 0-50\n",
      "buffets: 0-50\n",
      "burgers: 0-50\n",
      "burgers: 50-100\n",
      "burgers: 100-150\n",
      "burgers: 150-200\n",
      "burmese: 0-50\n",
      "cafes: 0-50\n",
      "cafes: 50-100\n",
      "cafes: 100-150\n",
      "cafes: 150-200\n",
      "cafes: 200-250\n",
      "cafes: 250-300\n",
      "cajun: 0-50\n",
      "cambodian: 0-50\n",
      "caribbean: 0-50\n",
      "cheesesteaks: 0-50\n",
      "chicken_wings: 0-50\n",
      "chicken_wings: 50-100\n",
      "chickenshop: 0-50\n",
      "chinese: 0-50\n",
      "chinese: 50-100\n",
      "chinese: 100-150\n",
      "chinese: 150-200\n",
      "chinese: 200-250\n",
      "chinese: 250-300\n",
      "chinese: 300-350\n",
      "chinese: 350-400\n",
      "chinese: 400-450\n",
      "chinese: 450-500\n",
      "chinese: 500-550\n",
      "chinese: 550-600\n",
      "comfortfood: 0-50\n",
      "creperies: 0-50\n",
      "cuban: 0-50\n",
      "delis: 0-50\n",
      "delis: 50-100\n",
      "diners: 0-50\n",
      "dinnertheater: 0-50\n",
      "dumplings: 0-50\n",
      "ethiopian: 0-50\n",
      "filipino: 0-50\n",
      "fishnchips: 0-50\n",
      "food_court: 0-50\n",
      "french: 0-50\n",
      "gastropubs: 0-50\n",
      "german: 0-50\n",
      "gluten_free: 0-50\n",
      "greek: 0-50\n",
      "guamanian: 0-50\n",
      "halal: 0-50\n",
      "hawaiian: 0-50\n",
      "himalayan: 0-50\n",
      "hkcafe: 0-50\n",
      "hotdog: 0-50\n",
      "hotdogs: 0-50\n",
      "hotdogs: 50-100\n",
      "hotdogs: 100-150\n",
      "hotdogs: 150-200\n",
      "hotdogs: 200-250\n",
      "hotdogs: 250-300\n",
      "hotdogs: 300-350\n",
      "hotpot: 0-50\n",
      "hotpot: 50-100\n",
      "indonesian: 0-50\n",
      "indpak: 0-50\n",
      "indpak: 50-100\n",
      "indpak: 100-150\n",
      "international: 0-50\n",
      "irish: 0-50\n",
      "italian: 0-50\n",
      "italian: 50-100\n",
      "italian: 100-150\n",
      "italian: 150-200\n",
      "japanese: 0-50\n",
      "japanese: 50-100\n",
      "japanese: 100-150\n",
      "japanese: 150-200\n",
      "japanese: 200-250\n",
      "japanese: 250-300\n",
      "japanese: 300-350\n",
      "japanese: 350-400\n",
      "japanese: 400-450\n",
      "kebab: 0-50\n",
      "korean: 0-50\n",
      "korean: 50-100\n",
      "kosher: 0-50\n",
      "latin: 0-50\n",
      "malaysian: 0-50\n",
      "mediterranean: 0-50\n",
      "mexican: 0-50\n",
      "mexican: 50-100\n",
      "mideastern: 0-50\n",
      "mideastern: 50-100\n",
      "modern_european: 0-50\n",
      "mongolian: 0-50\n",
      "moroccan: 0-50\n",
      "newamerican: 0-50\n",
      "newcanadian: 0-50\n",
      "newcanadian: 50-100\n",
      "newcanadian: 100-150\n",
      "newcanadian: 150-200\n",
      "noodles: 0-50\n",
      "noodles: 50-100\n",
      "noodles: 100-150\n",
      "noodles: 150-200\n",
      "pakistani: 0-50\n",
      "panasian: 0-50\n",
      "persian: 0-50\n",
      "peruvian: 0-50\n",
      "pizza: 0-50\n",
      "pizza: 50-100\n",
      "pizza: 100-150\n",
      "pizza: 150-200\n",
      "pizza: 200-250\n",
      "pizza: 250-300\n",
      "polish: 0-50\n",
      "popuprestaurants: 0-50\n",
      "portuguese: 0-50\n",
      "poutineries: 0-50\n",
      "raw_food: 0-50\n",
      "russian: 0-50\n",
      "salad: 0-50\n",
      "salad: 50-100\n",
      "sandwiches: 0-50\n",
      "sandwiches: 50-100\n",
      "sandwiches: 100-150\n",
      "sandwiches: 150-200\n",
      "sandwiches: 200-250\n",
      "sandwiches: 250-300\n",
      "sandwiches: 300-350\n",
      "scandinavian: 0-50\n",
      "singaporean: 0-50\n",
      "soulfood: 0-50\n",
      "soup: 0-50\n",
      "soup: 50-100\n",
      "southern: 0-50\n",
      "spanish: 0-50\n",
      "srilankan: 0-50\n",
      "steak: 0-50\n",
      "sushi: 0-50\n",
      "sushi: 50-100\n",
      "sushi: 100-150\n",
      "sushi: 150-200\n",
      "sushi: 200-250\n",
      "sushi: 250-300\n",
      "syrian: 0-50\n",
      "taiwanese: 0-50\n",
      "taiwanese: 50-100\n",
      "tapas: 0-50\n",
      "tapasmallplates: 0-50\n",
      "tex-mex: 0-50\n",
      "thai: 0-50\n",
      "thai: 50-100\n",
      "tradamerican: 0-50\n",
      "tradamerican: 50-100\n",
      "turkish: 0-50\n",
      "ukrainian: 0-50\n",
      "vegan: 0-50\n",
      "vegetarian: 0-50\n",
      "vegetarian: 50-100\n",
      "vietnamese: 0-50\n",
      "vietnamese: 50-100\n",
      "vietnamese: 100-150\n",
      "vietnamese: 150-200\n",
      "waffles: 0-50\n"
     ]
    }
   ],
   "source": [
    "import time\n",
    "\n",
    "PARAMETERS = {'term': 'restaurants',\n",
    "              'offset': 0, # start at 0\n",
    "              'limit': 50, # maximum is 50\n",
    "              'radius': 40000, # in m\n",
    "              'location': 'Vancouver, BC'}\n",
    "\n",
    "restaurants_in_vancouver = []\n",
    "\n",
    "# Cycle through categories\n",
    "for category in restaurant_aliases:\n",
    "    PARAMETERS['categories'] = category\n",
    "    # Cycle through restaurants\n",
    "    for offset_number in range(0,1000,50):\n",
    "        PARAMETERS['offset'] = offset_number\n",
    "\n",
    "        response = requests.get(url=ENDPOINT, params=PARAMETERS, headers=HEADERS)\n",
    "\n",
    "        if not response.json().get('businesses', False):\n",
    "            break\n",
    "\n",
    "        restaurants_in_vancouver.extend(response.json()['businesses'])\n",
    "\n",
    "        print(\"{}: {}-{}\".format(category, offset_number, offset_number+50))\n",
    "        \n",
    "        time.sleep(0.5) ## Don't want to get blocked by Yelp API"
   ]
  },
  {
   "cell_type": "code",
   "execution_count": 11,
   "metadata": {},
   "outputs": [
    {
     "name": "stdout",
     "output_type": "stream",
     "text": [
      "5694\n"
     ]
    }
   ],
   "source": [
    "# This number includes duplicates\n",
    "print(len(restaurants_in_vancouver))"
   ]
  },
  {
   "cell_type": "code",
   "execution_count": 12,
   "metadata": {},
   "outputs": [],
   "source": [
    "restaurants_file =  open(\"data/vancouver_restaurants_duplicates.json\", \"w\")\n",
    "json.dump(restaurants_in_vancouver, restaurants_file, indent=6)\n",
    "restaurants_file.close()"
   ]
  },
  {
   "cell_type": "code",
   "execution_count": 13,
   "metadata": {},
   "outputs": [],
   "source": [
    "# Remove the duplicate entries\n",
    "res_list = [i for n, i in enumerate(restaurants_in_vancouver) if i not in restaurants_in_vancouver[n + 1:]] "
   ]
  },
  {
   "cell_type": "code",
   "execution_count": 14,
   "metadata": {},
   "outputs": [],
   "source": [
    "restaurants_file = open(\"data/vancouver_restaurants.json\", \"w\")\n",
    "json.dump(res_list, restaurants_file, indent=6)\n",
    "restaurants_file.close()"
   ]
  },
  {
   "cell_type": "code",
   "execution_count": 15,
   "metadata": {},
   "outputs": [],
   "source": [
    "newlist = sorted(res_list, key=lambda k: k['name']) "
   ]
  },
  {
   "cell_type": "code",
   "execution_count": 16,
   "metadata": {},
   "outputs": [
    {
     "data": {
      "text/plain": [
       "3753"
      ]
     },
     "execution_count": 16,
     "metadata": {},
     "output_type": "execute_result"
    }
   ],
   "source": [
    "len(newlist)"
   ]
  },
  {
   "cell_type": "markdown",
   "metadata": {},
   "source": [
    "3753 restaurants' data was gathered."
   ]
  },
  {
   "cell_type": "markdown",
   "metadata": {},
   "source": [
    "# Gathering review data using a web scraper\n",
    "\n",
    "A web scraper was created, but not executed to gather full review information. For legality sake and to adhere to ToS, it will be saved in a separate file and will not be uploaded online. If you are an employer and would like to see the work, please contact me."
   ]
  }
 ],
 "metadata": {
  "kernelspec": {
   "display_name": "Python 3",
   "language": "python",
   "name": "python3"
  },
  "language_info": {
   "codemirror_mode": {
    "name": "ipython",
    "version": 3
   },
   "file_extension": ".py",
   "mimetype": "text/x-python",
   "name": "python",
   "nbconvert_exporter": "python",
   "pygments_lexer": "ipython3",
   "version": "3.7.6"
  }
 },
 "nbformat": 4,
 "nbformat_minor": 2
}
